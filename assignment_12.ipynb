{
  "nbformat": 4,
  "nbformat_minor": 0,
  "metadata": {
    "colab": {
      "provenance": [],
      "collapsed_sections": [],
      "authorship_tag": "ABX9TyMcL1z1LgI4Ai1rOi6MFqKa",
      "include_colab_link": true
    },
    "kernelspec": {
      "name": "python3",
      "display_name": "Python 3"
    },
    "language_info": {
      "name": "python"
    }
  },
  "cells": [
    {
      "cell_type": "markdown",
      "metadata": {
        "id": "view-in-github",
        "colab_type": "text"
      },
      "source": [
        "<a href=\"https://colab.research.google.com/github/tokuch880/gitclass1/blob/main/assignment_12.ipynb\" target=\"_parent\"><img src=\"https://colab.research.google.com/assets/colab-badge.svg\" alt=\"Open In Colab\"/></a>"
      ]
    },
    {
      "cell_type": "code",
      "execution_count": 10,
      "metadata": {
        "colab": {
          "base_uri": "https://localhost:8080/"
        },
        "id": "ltrshCO0z__q",
        "outputId": "fa6b8f5d-c800-4dee-e0c0-f6d53779cebf"
      },
      "outputs": [
        {
          "output_type": "stream",
          "name": "stdout",
          "text": [
            "enter a positive integer number: 32,7\n",
            "It is an invalid entry. Don't use non-numeric, float, or negative values!\n",
            "enter a positive integer number: -45\n",
            "It is an invalid entry. Don't use non-numeric, float, or negative values!\n",
            "enter a positive integer number: one\n",
            "It is an invalid entry. Don't use non-numeric, float, or negative values!\n",
            "enter a positive integer number: 9474\n",
            "9474 is armstrong number\n"
          ]
        }
      ],
      "source": [
        "num = input(\"enter a positive integer number: \")\n",
        "len_num = len(num)\n",
        "sum = 0\n",
        "while not num.isdigit():\n",
        "    print(\"It is an invalid entry. Don't use non-numeric, float, or negative values!\")\n",
        "    num = input(\"enter a positive integer number: \")\n",
        "for i in num:\n",
        "    a = pow(int(i), len_num)\n",
        "    sum = sum + a\n",
        "\n",
        "if sum == int(num):\n",
        "    print(sum, \"is armstrong number\")\n",
        "else:\n",
        "    print(int(num), \"is not an armstrong number\")"
      ]
    }
  ]
}