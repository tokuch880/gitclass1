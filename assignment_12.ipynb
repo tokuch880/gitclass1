{
  "nbformat": 4,
  "nbformat_minor": 0,
  "metadata": {
    "colab": {
      "provenance": [],
      "toc_visible": true,
      "authorship_tag": "ABX9TyPm7p44fZcjGuVoFgOz76Yc",
      "include_colab_link": true
    },
    "kernelspec": {
      "name": "python3",
      "display_name": "Python 3"
    },
    "language_info": {
      "name": "python"
    }
  },
  "cells": [
    {
      "cell_type": "markdown",
      "metadata": {
        "id": "view-in-github",
        "colab_type": "text"
      },
      "source": [
        "<a href=\"https://colab.research.google.com/github/tokuch880/gitclass1/blob/main/assignment_12.ipynb\" target=\"_parent\"><img src=\"https://colab.research.google.com/assets/colab-badge.svg\" alt=\"Open In Colab\"/></a>"
      ]
    },
    {
      "cell_type": "code",
      "execution_count": null,
      "metadata": {
        "colab": {
          "base_uri": "https://localhost:8080/"
        },
        "id": "ltrshCO0z__q",
        "outputId": "0a189b96-b9b3-4d2d-9378-733e541aeef2"
      },
      "outputs": [
        {
          "output_type": "stream",
          "name": "stdout",
          "text": [
            "enter a positive integer number: 45,32\n",
            "It is an invalid entry. Don't use non-numeric, float, or negative values!\n"
          ]
        }
      ],
      "source": [
        "num = input(\"enter a positive integer number: \")\n",
        "len_num = len(num)\n",
        "sum = 0\n",
        "while not num.isdigit():\n",
        "    print(\"It is an invalid entry. Don't use non-numeric, float, or negative values!\")\n",
        "    num = input(\"enter a positive integer number: \")\n",
        "for i in num:\n",
        "    a = pow(int(i), len_num)\n",
        "    sum = sum + a\n",
        "\n",
        "if sum == int(num):\n",
        "    print(sum, \"is armstrong number\")\n",
        "else:\n",
        "    print(int(num), \"is not an armstrong number\", int(num))"
      ]
    }
  ]
}