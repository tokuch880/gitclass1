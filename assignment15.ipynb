{
  "nbformat": 4,
  "nbformat_minor": 0,
  "metadata": {
    "colab": {
      "provenance": [],
      "toc_visible": true,
      "authorship_tag": "ABX9TyM1+pd5GErceH1NH5bKgzeb",
      "include_colab_link": true
    },
    "kernelspec": {
      "name": "python3",
      "display_name": "Python 3"
    },
    "language_info": {
      "name": "python"
    }
  },
  "cells": [
    {
      "cell_type": "markdown",
      "metadata": {
        "id": "view-in-github",
        "colab_type": "text"
      },
      "source": [
        "<a href=\"https://colab.research.google.com/github/tokuch880/gitclass1/blob/main/assignment15.ipynb\" target=\"_parent\"><img src=\"https://colab.research.google.com/assets/colab-badge.svg\" alt=\"Open In Colab\"/></a>"
      ]
    },
    {
      "cell_type": "code",
      "execution_count": 1,
      "metadata": {
        "colab": {
          "base_uri": "https://localhost:8080/"
        },
        "id": "tUHvsLrPV3pZ",
        "outputId": "4aa49011-4c1a-429a-f7cb-7e80a12bcb8c"
      },
      "outputs": [
        {
          "output_type": "stream",
          "name": "stdout",
          "text": [
            "[2, 3, 5, 7, 11, 13, 17, 19, 23, 29, 31, 37, 41, 43, 47, 53, 59, 61, 67, 71, 73, 79, 83, 89, 97]\n"
          ]
        }
      ],
      "source": [
        "list_prime = []\n",
        "\n",
        "for x in range(2,101):\n",
        "\n",
        "    isPrime = True\n",
        "\n",
        "    for y in range(2, x) :\n",
        "\n",
        "        if x % y==0 :\n",
        "\n",
        "            isPrime = False\n",
        "\n",
        "            break\n",
        "\n",
        "    if isPrime:\n",
        "\n",
        "        list_prime.append(x)\n",
        "\n",
        "print(list_prime)"
      ]
    }
  ]
}