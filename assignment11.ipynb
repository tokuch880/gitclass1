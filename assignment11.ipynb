{
  "nbformat": 4,
  "nbformat_minor": 0,
  "metadata": {
    "colab": {
      "provenance": [],
      "collapsed_sections": [],
      "authorship_tag": "ABX9TyN9tC/dyPnt79NN1HUpjJxG",
      "include_colab_link": true
    },
    "kernelspec": {
      "name": "python3",
      "display_name": "Python 3"
    },
    "language_info": {
      "name": "python"
    }
  },
  "cells": [
    {
      "cell_type": "markdown",
      "metadata": {
        "id": "view-in-github",
        "colab_type": "text"
      },
      "source": [
        "<a href=\"https://colab.research.google.com/github/tokuch880/gitclass1/blob/main/assignment11.ipynb\" target=\"_parent\"><img src=\"https://colab.research.google.com/assets/colab-badge.svg\" alt=\"Open In Colab\"/></a>"
      ]
    },
    {
      "cell_type": "code",
      "execution_count": 3,
      "metadata": {
        "colab": {
          "base_uri": "https://localhost:8080/"
        },
        "id": "2bh8ynkLYJrK",
        "outputId": "1b8f4d40-5c55-47fc-8435-f0e8d563049c"
      },
      "outputs": [
        {
          "output_type": "stream",
          "name": "stdout",
          "text": [
            "enter a year please : 1900\n",
            " 1900 is a not a leap year.\n"
          ]
        }
      ],
      "source": [
        "year = int(input(\"enter a year please : \"))\n",
        "\n",
        "leap= (year % 4 == 0) and (year % 100 != 0 or year % 400 == 0)\n",
        "\n",
        "if leap :\n",
        "\n",
        "    print(f\" {year} is a leap year.\")\n",
        "\n",
        "else :\n",
        "\n",
        "    print(f\" {year} is a not a leap year.\")"
      ]
    }
  ]
}