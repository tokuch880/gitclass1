{
  "nbformat": 4,
  "nbformat_minor": 0,
  "metadata": {
    "colab": {
      "provenance": [],
      "authorship_tag": "ABX9TyOVrXdVousl0cbJxHI3/L80",
      "include_colab_link": true
    },
    "kernelspec": {
      "name": "python3",
      "display_name": "Python 3"
    },
    "language_info": {
      "name": "python"
    }
  },
  "cells": [
    {
      "cell_type": "markdown",
      "metadata": {
        "id": "view-in-github",
        "colab_type": "text"
      },
      "source": [
        "<a href=\"https://colab.research.google.com/github/tokuch880/gitclass1/blob/main/assignment_13.ipynb\" target=\"_parent\"><img src=\"https://colab.research.google.com/assets/colab-badge.svg\" alt=\"Open In Colab\"/></a>"
      ]
    },
    {
      "cell_type": "code",
      "execution_count": 2,
      "metadata": {
        "colab": {
          "base_uri": "https://localhost:8080/"
        },
        "id": "o-uchEGnGeL7",
        "outputId": "77268d27-35fb-4353-ca59-a7cbf44885a5"
      },
      "outputs": [
        {
          "output_type": "stream",
          "name": "stdout",
          "text": [
            "Enter a number: 13\n",
            "13 is a prime number\n"
          ]
        }
      ],
      "source": [
        "num = int(input(\"Enter a number: \"))\n",
        "\n",
        "if num > 1:  \n",
        "\n",
        "    for i in range(2, num):\n",
        "\n",
        "        if (num % i) == 0:\n",
        "\n",
        "            print(num,\"is not a prime number\")\n",
        "\n",
        "            break\n",
        "\n",
        "    else:\n",
        "\n",
        "        print(num,\"is a prime number\")\n",
        "\n",
        "else:\n",
        "\n",
        "    print(num,\"is not a prime number\")"
      ]
    }
  ]
}