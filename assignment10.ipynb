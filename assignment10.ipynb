{
  "nbformat": 4,
  "nbformat_minor": 0,
  "metadata": {
    "colab": {
      "provenance": [],
      "collapsed_sections": [],
      "authorship_tag": "ABX9TyNbdat1vSyRjkM4X/rZR0Up",
      "include_colab_link": true
    },
    "kernelspec": {
      "name": "python3",
      "display_name": "Python 3"
    },
    "language_info": {
      "name": "python"
    }
  },
  "cells": [
    {
      "cell_type": "markdown",
      "metadata": {
        "id": "view-in-github",
        "colab_type": "text"
      },
      "source": [
        "<a href=\"https://colab.research.google.com/github/tokuch880/gitclass1/blob/main/assignment10.ipynb\" target=\"_parent\"><img src=\"https://colab.research.google.com/assets/colab-badge.svg\" alt=\"Open In Colab\"/></a>"
      ]
    },
    {
      "cell_type": "code",
      "execution_count": 2,
      "metadata": {
        "colab": {
          "base_uri": "https://localhost:8080/"
        },
        "id": "a7mxOe9xRt46",
        "outputId": "9c0cf230-4182-4cff-edea-c18851bbb6d6"
      },
      "outputs": [
        {
          "output_type": "stream",
          "name": "stdout",
          "text": [
            "are you a cigarette addict older than 75 years old? (Yes: 1, No: 0) : 0\n",
            "Do you have a severe chronic disease? (Yes: 1, No: 0) : 0\n",
            "Is your immune system too weak? (Yes: 1, No: 0) : 0\n",
            "You are not in risky group\n"
          ]
        }
      ],
      "source": [
        "age = bool(int(input(\"are you a cigarette addict older than 75 years old? (Yes: 1, No: 0) : \")))\n",
        "\n",
        "chronic = bool(int(input(\"Do you have a severe chronic disease? (Yes: 1, No: 0) : \")))\n",
        "\n",
        "immune = bool(int(input(\"Is your immune system too weak? (Yes: 1, No: 0) : \")))\n",
        "\n",
        "if age or chronic or immune :\n",
        "\n",
        "    print(\"You are in risky group\")\n",
        "\n",
        "else :\n",
        "\n",
        "    print(\"You are not in risky group\")"
      ]
    }
  ]
}